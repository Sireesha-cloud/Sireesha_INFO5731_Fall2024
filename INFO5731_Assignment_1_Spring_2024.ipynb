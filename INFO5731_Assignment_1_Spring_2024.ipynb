{
  "cells": [
    {
      "cell_type": "markdown",
      "metadata": {
        "id": "view-in-github",
        "colab_type": "text"
      },
      "source": [
        "<a href=\"https://colab.research.google.com/github/Sireesha-cloud/Sireesha_INFO5731_Fall2024/blob/main/INFO5731_Assignment_1_Spring_2024.ipynb\" target=\"_parent\"><img src=\"https://colab.research.google.com/assets/colab-badge.svg\" alt=\"Open In Colab\"/></a>"
      ]
    },
    {
      "cell_type": "markdown",
      "metadata": {
        "id": "Ryk8D1Q4Wsrp"
      },
      "source": [
        "# **INFO5731 Assignment One**"
      ]
    },
    {
      "cell_type": "markdown",
      "metadata": {
        "id": "qcP6re2g5A5r"
      },
      "source": [
        "This assignment includes range of programming tasks and data analysis exercises, aiming to enhance your Python skills and proficiency in string manipulation, numerical computations, and data science. Follow the instructions carefully and design well-structured Python programs to address each question.\n",
        "\n",
        "Late Submission will have a penalty of 10% reduction for each day after the deadline."
      ]
    },
    {
      "cell_type": "markdown",
      "metadata": {
        "id": "JkzR8cFAyGik"
      },
      "source": [
        "# Question 1 (10 points).\n",
        "\n",
        "The formula that describes the volume V of a hemisphere with radius r is the following:\n",
        "\n",
        "$ V=\\frac{2}{3}\\ast\\ \\pi\\ast\\ r^3 $\n",
        "\n",
        "Write a program to calculate the value of V when r is in the range of even numbers from 1-20. Output the result in the following format:\n",
        "\n",
        "\tr\tV\n",
        "\t2\t…\n",
        "\t4\t…\n",
        "\t6\t…\n",
        "\t.\n",
        "\t.\n",
        "\t.\n",
        "\t20\t…\n"
      ]
    },
    {
      "cell_type": "code",
      "execution_count": null,
      "metadata": {
        "colab": {
          "base_uri": "https://localhost:8080/"
        },
        "id": "jDyTKYs-yGit",
        "outputId": "8e296a8b-c436-4d74-ef2b-4b8af818d809"
      },
      "outputs": [
        {
          "name": "stdout",
          "output_type": "stream",
          "text": [
            "r\tV\n",
            "2\t16.76\n",
            "4\t134.04\n",
            "6\t452.39\n",
            "8\t1072.33\n",
            "10\t2094.40\n",
            "12\t3619.11\n",
            "14\t5747.02\n",
            "16\t8578.64\n",
            "18\t12214.51\n",
            "20\t16755.16\n"
          ]
        }
      ],
      "source": [
        "import math\n",
        "\n",
        "\n",
        "def hemisphere_volume(r):\n",
        "    return (2/3) * math.pi * (r ** 3)\n",
        "\n",
        "\n",
        "r_values = list(range(2, 21, 2))\n",
        "\n",
        "\n",
        "results = [(r, hemisphere_volume(r)) for r in r_values]\n",
        "\n",
        "\n",
        "print(\"r\\tV\")\n",
        "for r, V in results:\n",
        "    print(f\"{r}\\t{V:.2f}\")\n",
        "\n",
        "\n"
      ]
    },
    {
      "cell_type": "markdown",
      "metadata": {
        "id": "90_NR8c5XGWc"
      },
      "source": [
        "# Question 2 (20 points)\n",
        "\n",
        "(a) Write a Python program to generate a sequence of 12 random numbers falling within the range of 50 to 150.\n",
        "\n",
        "(b) Arrange the generated numbers in ascending order. Display the sorted list.\n",
        "\n",
        "(c) Extend the program to arrange the numbers in descending order as well. Present the sorted list accordingly.\n",
        "\n",
        "(d) Compute and output the average of the entire group of generated numbers.\n",
        "\n",
        "(e) Enhance the program to calculate and display the average of the first 6 numbers from both the ascending and descending sorted lists."
      ]
    },
    {
      "cell_type": "code",
      "execution_count": null,
      "metadata": {
        "colab": {
          "base_uri": "https://localhost:8080/"
        },
        "id": "5QX6bJjGWXY9",
        "outputId": "077a53e8-d087-421e-fcf6-43a6f9673e26"
      },
      "outputs": [
        {
          "name": "stdout",
          "output_type": "stream",
          "text": [
            "Generated random numbers: [140, 78, 101, 141, 108, 63, 90, 117, 51, 78, 136, 146]\n",
            "Sorted in ascending order: [51, 63, 78, 78, 90, 101, 108, 117, 136, 140, 141, 146]\n",
            "Sorted in descending order: [146, 141, 140, 136, 117, 108, 101, 90, 78, 78, 63, 51]\n",
            "Average of all numbers: 104.08\n",
            "Average of first 6 numbers (ascending): 76.83\n",
            "Average of first 6 numbers (descending): 131.33\n"
          ]
        }
      ],
      "source": [
        "# Write code for each of the sub parts with proper comments.\n",
        "import random\n",
        "\n",
        "# Function to generate a sequence of 12 random numbers\n",
        "def generate_random_numbers():\n",
        "    return [random.randint(50, 150) for _ in range(12)]\n",
        "\n",
        "# Function to calculate the average of a list of numbers\n",
        "def calculate_average(numbers):\n",
        "    return sum(numbers) / len(numbers)\n",
        "\n",
        "# Generate 12 random numbers\n",
        "random_numbers = generate_random_numbers()\n",
        "\n",
        "# Sort the numbers in ascending order\n",
        "sorted_asc = sorted(random_numbers)\n",
        "\n",
        "# Sort the numbers in descending order\n",
        "sorted_desc = sorted(random_numbers, reverse=True)\n",
        "\n",
        "# Calculate the average of all 12 numbers\n",
        "average_all = calculate_average(random_numbers)\n",
        "\n",
        "# Calculate the average of the first 6 numbers in the ascending list\n",
        "average_first_6_asc = calculate_average(sorted_asc[:6])\n",
        "\n",
        "# Calculate the average of the first 6 numbers in the descending list\n",
        "average_first_6_desc = calculate_average(sorted_desc[:6])\n",
        "\n",
        "# Output results\n",
        "print(\"Generated random numbers:\", random_numbers)\n",
        "print(\"Sorted in ascending order:\", sorted_asc)\n",
        "print(\"Sorted in descending order:\", sorted_desc)\n",
        "print(f\"Average of all numbers: {average_all:.2f}\")\n",
        "print(f\"Average of first 6 numbers (ascending): {average_first_6_asc:.2f}\")\n",
        "print(f\"Average of first 6 numbers (descending): {average_first_6_desc:.2f}\")\n",
        "\n",
        "\n",
        "\n"
      ]
    },
    {
      "cell_type": "markdown",
      "metadata": {
        "id": "1F_PZdH9Sh49"
      },
      "source": [
        "# Question 3 (20 points).\n",
        "\n",
        "Create a Python program that encompasses various string manipulation task:\n",
        "\n",
        "(a) Prompt the user to input two sentences.\n",
        "\n",
        "(b) Transform each sentence into a list, where each element corresponds to a word in the sentence. For example, if the sentences are \"Hello, how are you doing today?\" and \"This is an example sentence for the program!\"\n",
        "\n",
        "The program should output:\n",
        "['Hello', ',', 'how', 'are', 'you', 'doing', 'today', '?', 'This', 'is', 'an', 'example', 'sentence', 'for', 'the', 'program', '!']\n",
        "\n",
        "(c) Compare the two sentences. Print out a list of words that occur in both sentences.\n",
        "\n",
        "(d) Remove any punctuation from the sentence and print the sanitized sentences. It should remove at least the following characters, but it can remove more: period(“.”), comma (“,”), semicolon (“;”), and colon (“:”).\n",
        "\n",
        "(e) Count the number of vowels in each of the sentences. Print out each vowel and the occurrences  in the each of the two sentences separately, such as:\n",
        "\n",
        "Sentence1: a:2, e:2, i:0, etc.\n",
        "Sentence2: a:1, e:2, i:2, etc.\n",
        "\n",
        "Design a well-structured Python program to execute these tasks efficiently."
      ]
    },
    {
      "cell_type": "code",
      "execution_count": null,
      "metadata": {
        "colab": {
          "base_uri": "https://localhost:8080/"
        },
        "id": "Y0oOSlsOS0cq",
        "outputId": "1bbd97ba-b743-426a-8b6e-f29db059af30"
      },
      "outputs": [
        {
          "name": "stdout",
          "output_type": "stream",
          "text": [
            "Enter the first sentence: \"Hello, how are you doing today?\"\n",
            "Enter the second sentence: \"This is an example sentence for the program!\"\n",
            "Combined list of words from both sentences: ['\"Hello,', 'how', 'are', 'you', 'doing', 'today?\"', '\"This', 'is', 'an', 'example', 'sentence', 'for', 'the', 'program!\"']\n",
            "Common words in both sentences: []\n",
            "Sanitized Sentence 1: Hello how are you doing today\n",
            "Sanitized Sentence 2: This is an example sentence for the program\n",
            "Vowel counts in Sentence 1: {'a': 2, 'e': 2, 'i': 1, 'o': 5, 'u': 1}\n",
            "Vowel counts in Sentence 2: {'a': 3, 'e': 6, 'i': 2, 'o': 2, 'u': 0}\n"
          ]
        }
      ],
      "source": [
        "# Your code here\n",
        "import string\n",
        "\n",
        "# Function to sanitize a sentence by removing punctuation\n",
        "def remove_punctuation(sentence):\n",
        "    return sentence.translate(str.maketrans('', '', string.punctuation))\n",
        "\n",
        "# Function to count vowels in a sentence\n",
        "def count_vowels(sentence):\n",
        "    vowels = \"aeiou\"\n",
        "    vowel_count = {vowel: 0 for vowel in vowels}\n",
        "\n",
        "    for char in sentence.lower():\n",
        "        if char in vowels:\n",
        "            vowel_count[char] += 1\n",
        "    return vowel_count\n",
        "\n",
        "# Prompt user to input two sentences\n",
        "sentence1 = input(\"Enter the first sentence: \")\n",
        "sentence2 = input(\"Enter the second sentence: \")\n",
        "\n",
        "# Transform sentences into lists of words\n",
        "sentence1_list = sentence1.split()\n",
        "sentence2_list = sentence2.split()\n",
        "\n",
        "# Combine both lists\n",
        "combined_list = sentence1_list + sentence2_list\n",
        "\n",
        "# Print the combined list\n",
        "print(\"Combined list of words from both sentences:\", combined_list)\n",
        "\n",
        "# Find words common in both sentences\n",
        "common_words = set(sentence1_list) & set(sentence2_list)\n",
        "print(\"Common words in both sentences:\", list(common_words))\n",
        "\n",
        "# Sanitize both sentences by removing punctuation\n",
        "sanitized_sentence1 = remove_punctuation(sentence1)\n",
        "sanitized_sentence2 = remove_punctuation(sentence2)\n",
        "\n",
        "print(\"Sanitized Sentence 1:\", sanitized_sentence1)\n",
        "print(\"Sanitized Sentence 2:\", sanitized_sentence2)\n",
        "\n",
        "# Count vowels in both sentences\n",
        "vowel_count_sentence1 = count_vowels(sanitized_sentence1)\n",
        "vowel_count_sentence2 = count_vowels(sanitized_sentence2)\n",
        "\n",
        "# Print vowel counts for each sentence\n",
        "print(\"Vowel counts in Sentence 1:\", vowel_count_sentence1)\n",
        "print(\"Vowel counts in Sentence 2:\", vowel_count_sentence2)\n",
        "\n",
        "\n"
      ]
    },
    {
      "cell_type": "code",
      "execution_count": null,
      "metadata": {
        "id": "k_t7iIByS6-v"
      },
      "outputs": [],
      "source": []
    },
    {
      "cell_type": "markdown",
      "metadata": {
        "id": "OP4-5qxAtInv"
      },
      "source": [
        "# Question 4 (20 Points)"
      ]
    },
    {
      "cell_type": "markdown",
      "metadata": {
        "id": "uzN4_hDptK9U"
      },
      "source": [
        "Design and implement a simple command-line calculator program. The program should handle both integers and floating-point numbers.\n",
        "\n",
        "(a) Write program that takes a mathematical expression as input and evaluates it. The program should support addition, subtraction, multiplication, and division.\n",
        "\n",
        "(b) Extend the calculator to handle parentheses in mathematical expressions. Implement the necessary logic to evaluate expressions with nested parentheses.\n",
        "\n",
        "(c) Enhance your calculator to include additional mathematical operations such as exponentiation, square root, and modulus.\n",
        "\n",
        "(d) Implement error handling in the calculator program. Handle cases such as division by zero and invalid input expressions. Provide meaningful error messages.\n",
        "\n",
        "(e) Implement a command to exit the calculator."
      ]
    },
    {
      "cell_type": "code",
      "execution_count": null,
      "metadata": {
        "colab": {
          "background_save": true,
          "base_uri": "https://localhost:8080/"
        },
        "id": "8nQnVxjJuYtu",
        "outputId": "64504116-6593-4133-e5d4-c1512334d65d"
      },
      "outputs": [
        {
          "name": "stdout",
          "output_type": "stream",
          "text": [
            "Simple Command-line Calculator\n",
            "Supported operations: +, -, *, /, %, ** (exponentiation), sqrt()\n",
            "Use parentheses for nested expressions.\n",
            "Type 'exit' to quit the calculator.\n",
            "Result: Error: Invalid input. invalid syntax (<string>, line 1)\n",
            "Result: Error: Invalid number inside sqrt.\n",
            "Result: 2.23606797749979\n",
            "Result: 7\n"
          ]
        },
        {
          "name": "stderr",
          "output_type": "stream",
          "text": [
            "<string>:1: SyntaxWarning: 'int' object is not callable; perhaps you missed a comma?\n"
          ]
        },
        {
          "name": "stdout",
          "output_type": "stream",
          "text": [
            "Result: Error: Invalid input. name 'exponentiation' is not defined\n",
            "Result: Error: Invalid input. name 'exponentiation' is not defined\n",
            "Result: 0\n"
          ]
        }
      ],
      "source": [
        "import math\n",
        "\n",
        "# Function to evaluate the mathematical expression\n",
        "def evaluate_expression(expression):\n",
        "        # Evaluate the expression using Python's eval function\n",
        "        result = eval(expression)\n",
        "        return result\n",
        "    except ZeroDivisionError:\n",
        "        return \"Error: Division by zero is not allowed.\"\n",
        "    except Exception as e:\n",
        "        return f\"Error: Invalid input. {e}\"\n",
        "\n",
        "# Function to handle square root\n",
        "def handle_square_root(expression):\n",
        "    try:\n",
        "        # Extract the number inside sqrt() and compute the square root\n",
        "        start_idx = expression.find('sqrt(') + 5\n",
        "        end_idx = expression.find(')', start_idx)\n",
        "        number = float(expression[start_idx:end_idx])\n",
        "        return math.sqrt(number)\n",
        "    except ValueError:\n",
        "        return \"Error: Invalid number inside sqrt.\"\n",
        "    except Exception as e:\n",
        "        return f\"Error: {e}\"\n",
        "\n",
        "# Main calculator loop\n",
        "def main():\n",
        "    print(\"Simple Command-line Calculator\")\n",
        "    print(\"Supported operations: +, -, *, /, %, ** (exponentiation), sqrt()\")\n",
        "    print(\"Use parentheses for nested expressions.\")\n",
        "    print(\"Type 'exit' to quit the calculator.\")\n",
        "\n",
        "    while True:\n",
        "        # Prompt the user to enter a mathematical expression\n",
        "        expression = input(\"\\nEnter a mathematical expression: \")\n",
        "\n",
        "        # Exit the calculator if the user types 'exit'\n",
        "        if expression.lower() == 'exit':\n",
        "            print(\"Exiting the calculator. Goodbye!\")\n",
        "            break\n",
        "\n",
        "        # Check for sqrt() and handle it separately\n",
        "        if 'sqrt' in expression:\n",
        "            result = handle_square_root(expression)\n",
        "        else:\n",
        "            # Evaluate the mathematical expression\n",
        "            result = evaluate_expression(expression)\n",
        "\n",
        "        # Print the result\n",
        "        print(f\"Result: {result}\")\n",
        "\n",
        "if __name__ == \"__main__\":\n",
        "    main()    try:\n",
        "\n"
      ]
    },
    {
      "cell_type": "markdown",
      "metadata": {
        "id": "z3tBE7E-Xn5X"
      },
      "source": [
        "# Question 5 (30 points).\n",
        "\n",
        "In the field of Data Science, data is often formatted as a comma-delimited (CSV) file, where each line in a file corresponds to a field's value. Refer to Chapter 9 (p. 106) for more information on comma-delimited files.\n",
        "\n",
        "To answer this question, you will need to download the file [Assignment1_denton_housing.csv](https://raw.githubusercontent.com/unt-iialab/info5731-spring2022/main/assignments/Assignment1_denton_housing.csv) included with this assignment. The file contains statistics about housing in the city of Denton from 2008 to 2014. Write a program to implement the following questions.\n",
        "\n",
        "(a) (5 pts) Calculate the difference in the number of Occupied Housing Units from year to year and print it. The difference must be calculated for the consecutive years such as 2008-2009, 2009-2010 etc. Finally, print the values in the ascending order.\n",
        "\n",
        "(b) (5 pts) For all the years, calculate the percentage of housing units which are vacant an occupied. Print the results in the following format:\n",
        "\n",
        "Year Vacant Housing Units Occupied Housing Units\n",
        "\n",
        "    2008  30%   70%                          \n",
        "\t2009 ----- -----\n",
        "\t2010 ----- -----\n",
        "    2011 ----- -----\n",
        "\t2012 ----- -----\n",
        "    2013 ----- -----\n",
        "\t2014 ----- -----\n",
        "  \n",
        "  \n",
        "\n",
        "(c) (10 pts) Calculate and print the valued and years in which the highest number of housing units were vacant and occupied. Print the results in the following format:  \n",
        "\n",
        "                              Year\tValue\n",
        "\tVacant Housing Units\t  -----   -----\n",
        "\tOccupied Housing Units\t-----   -----\n",
        "\n",
        "(d) (10 pts) Calculate the harmonic mean of the total housing units and print it out. You can find the information about harmonic mean here: https://ncalculators.com/statistics/harmonic-mean-calculator.htm"
      ]
    },
    {
      "cell_type": "code",
      "source": [
        "import numpy as np\n",
        "import pandas as pd\n",
        "from scipy import stats\n",
        "df = pd.read_csv('Assignment1_denton_housing.csv')\n",
        "df1 = df[df['title_field'] == 'Occupied Housing Units'].sort_values(by=['year'])\n",
        "df1['Difference'] = abs(df1['value'].diff())\n",
        "print(df1[['year', 'Difference']],'\\n\\n')"
      ],
      "metadata": {
        "id": "_0DPF_zbb2FC",
        "colab": {
          "base_uri": "https://localhost:8080/"
        },
        "outputId": "e3345a88-bbdf-4dbb-a5bc-e2dca4a6f73a"
      },
      "execution_count": 44,
      "outputs": [
        {
          "output_type": "stream",
          "name": "stdout",
          "text": [
            "    year  Difference\n",
            "20  2008         NaN\n",
            "17  2009       795.0\n",
            "14  2010      5091.0\n",
            "11  2011       303.0\n",
            "8   2012      1404.0\n",
            "5   2013      1565.0\n",
            "2   2014      2622.0 \n",
            "\n",
            "\n"
          ]
        }
      ]
    },
    {
      "cell_type": "markdown",
      "metadata": {
        "id": "q8BFCvWp32cf"
      },
      "source": [
        "# Mandatory Question\n",
        "\n",
        "Provide your thoughts on the assignment. What did you find challenging, and what aspects did you enjoy? Your opinion on the provided time to complete the assignment. Share any suggestions for improvement. Your feedback will be valuable for enhancing the learning experience."
      ]
    },
    {
      "cell_type": "code",
      "execution_count": null,
      "metadata": {
        "id": "_e557s2w4BpK"
      },
      "outputs": [],
      "source": [
        "# Write your response below"
      ]
    }
  ],
  "metadata": {
    "colab": {
      "provenance": [],
      "include_colab_link": true
    },
    "kernelspec": {
      "display_name": "Python 3 (ipykernel)",
      "language": "python",
      "name": "python3"
    },
    "language_info": {
      "codemirror_mode": {
        "name": "ipython",
        "version": 3
      },
      "file_extension": ".py",
      "mimetype": "text/x-python",
      "name": "python",
      "nbconvert_exporter": "python",
      "pygments_lexer": "ipython3",
      "version": "3.9.12"
    }
  },
  "nbformat": 4,
  "nbformat_minor": 0
}